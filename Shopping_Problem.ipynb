{
 "cells": [
  {
   "cell_type": "code",
   "execution_count": 201,
   "metadata": {},
   "outputs": [],
   "source": [
    "class product(object):\n",
    "    def __init__(self, SKU, Name, Price, unit):\n",
    "        self.SKU = SKU\n",
    "        self.Name = Name\n",
    "        self.Price = Price\n",
    "        self.unit = unit"
   ]
  },
  {
   "cell_type": "code",
   "execution_count": 202,
   "metadata": {},
   "outputs": [],
   "source": [
    "ipd = product(\"ipd\", \"Super iPad\", 549.99, 0)\n",
    "mbp = product(\"mbp\", \"MacBook Pro\", 1399.99, 0)\n",
    "atv = product(\"atv\", \"Apple TV\", 109.50, 0)\n",
    "vga = product(\"vga\", \"VGA adapter\", 30.00, 0)\n",
    "product_list = [\"ipd\", \"mbp\", \"atv\", \"vga\"]\n",
    "totalprice = 0"
   ]
  },
  {
   "cell_type": "code",
   "execution_count": 203,
   "metadata": {},
   "outputs": [],
   "source": [
    "atv_buy = 3\n",
    "atv_for = 2\n",
    "ipd_buy = 4\n",
    "def checkout(product):\n",
    "    globals()[product].unit = globals()[product].unit + 1"
   ]
  },
  {
   "cell_type": "code",
   "execution_count": 204,
   "metadata": {},
   "outputs": [],
   "source": [
    "def scan():\n",
    "    command = input(\"Check out: \")\n",
    "    checkout(command)"
   ]
  },
  {
   "cell_type": "code",
   "execution_count": 205,
   "metadata": {},
   "outputs": [],
   "source": [
    "def total():\n",
    "    global totalprice, ipd, mbp, atv, vga\n",
    "    if (atv.unit % atv_buy == 0):\n",
    "        atv.unit = int(atv_for * atv.unit / atv_buy)\n",
    "    if (ipd.unit > ipd_buy):\n",
    "        ipd.Price = 499.99\n",
    "    vga.unit = max(0, vga.unit - mbp.unit)\n",
    "    for names in product_list:\n",
    "        totalprice = totalprice + globals()[names].Price * globals()[names].unit\n",
    "    print(\"Total price is: \", totalprice)\n",
    "    totalprice = 0\n",
    "    ipd = product(\"ipd\", \"Super iPad\", 549.99, 0)\n",
    "    mbp = product(\"mbp\", \"MacBook Pro\", 1399.99, 0)\n",
    "    atv = product(\"atv\", \"Apple TV\", 109.50, 0)\n",
    "    vga = product(\"vga\", \"VGA adapter\", 30.00, 0)"
   ]
  },
  {
   "cell_type": "code",
   "execution_count": 206,
   "metadata": {},
   "outputs": [
    {
     "name": "stdout",
     "output_type": "stream",
     "text": [
      "Check out: mbp\n"
     ]
    }
   ],
   "source": [
    "scan()"
   ]
  },
  {
   "cell_type": "code",
   "execution_count": 207,
   "metadata": {},
   "outputs": [
    {
     "name": "stdout",
     "output_type": "stream",
     "text": [
      "Total price is:  1399.99\n"
     ]
    }
   ],
   "source": [
    "total()"
   ]
  },
  {
   "cell_type": "code",
   "execution_count": 208,
   "metadata": {},
   "outputs": [
    {
     "name": "stdout",
     "output_type": "stream",
     "text": [
      "Check out: ipd\n"
     ]
    }
   ],
   "source": [
    "scan()"
   ]
  },
  {
   "cell_type": "code",
   "execution_count": 209,
   "metadata": {},
   "outputs": [
    {
     "name": "stdout",
     "output_type": "stream",
     "text": [
      "Total price is:  549.99\n"
     ]
    }
   ],
   "source": [
    "total()"
   ]
  },
  {
   "cell_type": "code",
   "execution_count": 210,
   "metadata": {},
   "outputs": [
    {
     "name": "stdout",
     "output_type": "stream",
     "text": [
      "Check out: ipd\n"
     ]
    }
   ],
   "source": [
    "scan()"
   ]
  },
  {
   "cell_type": "code",
   "execution_count": 211,
   "metadata": {},
   "outputs": [
    {
     "name": "stdout",
     "output_type": "stream",
     "text": [
      "Check out: ipd\n"
     ]
    }
   ],
   "source": [
    "scan()"
   ]
  },
  {
   "cell_type": "code",
   "execution_count": 212,
   "metadata": {},
   "outputs": [
    {
     "name": "stdout",
     "output_type": "stream",
     "text": [
      "Check out: ipd\n"
     ]
    }
   ],
   "source": [
    "scan()"
   ]
  },
  {
   "cell_type": "code",
   "execution_count": 213,
   "metadata": {},
   "outputs": [
    {
     "name": "stdout",
     "output_type": "stream",
     "text": [
      "Check out: ipd\n"
     ]
    }
   ],
   "source": [
    "scan()"
   ]
  },
  {
   "cell_type": "code",
   "execution_count": 214,
   "metadata": {},
   "outputs": [
    {
     "name": "stdout",
     "output_type": "stream",
     "text": [
      "Check out: ipd\n"
     ]
    }
   ],
   "source": [
    "scan()"
   ]
  },
  {
   "cell_type": "code",
   "execution_count": 215,
   "metadata": {},
   "outputs": [
    {
     "name": "stdout",
     "output_type": "stream",
     "text": [
      "Total price is:  2499.95\n"
     ]
    }
   ],
   "source": [
    "total()"
   ]
  },
  {
   "cell_type": "code",
   "execution_count": 216,
   "metadata": {},
   "outputs": [
    {
     "name": "stdout",
     "output_type": "stream",
     "text": [
      "Check out: mbp\n"
     ]
    }
   ],
   "source": [
    "scan()"
   ]
  },
  {
   "cell_type": "code",
   "execution_count": 217,
   "metadata": {},
   "outputs": [
    {
     "name": "stdout",
     "output_type": "stream",
     "text": [
      "Check out: vga\n"
     ]
    }
   ],
   "source": [
    "scan()"
   ]
  },
  {
   "cell_type": "code",
   "execution_count": 218,
   "metadata": {},
   "outputs": [
    {
     "name": "stdout",
     "output_type": "stream",
     "text": [
      "Total price is:  1399.99\n"
     ]
    }
   ],
   "source": [
    "total()"
   ]
  },
  {
   "cell_type": "code",
   "execution_count": null,
   "metadata": {},
   "outputs": [],
   "source": []
  }
 ],
 "metadata": {
  "kernelspec": {
   "display_name": "Python 3",
   "language": "python",
   "name": "python3"
  },
  "language_info": {
   "codemirror_mode": {
    "name": "ipython",
    "version": 3
   },
   "file_extension": ".py",
   "mimetype": "text/x-python",
   "name": "python",
   "nbconvert_exporter": "python",
   "pygments_lexer": "ipython3",
   "version": "3.7.4"
  }
 },
 "nbformat": 4,
 "nbformat_minor": 2
}
