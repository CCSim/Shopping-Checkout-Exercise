{
 "cells": [
  {
   "cell_type": "code",
   "execution_count": 234,
   "metadata": {},
   "outputs": [],
   "source": [
    "# Define the class type of the products\n",
    "class product(object):\n",
    "    def __init__(self, SKU, Name, Price, unit):\n",
    "        self.SKU = SKU\n",
    "        self.Name = Name\n",
    "        self.Price = Price\n",
    "        self.unit = unit"
   ]
  },
  {
   "cell_type": "code",
   "execution_count": 235,
   "metadata": {},
   "outputs": [],
   "source": [
    "# Initialize the four types of products\n",
    "ipd = product(\"ipd\", \"Super iPad\", 549.99, 0)\n",
    "mbp = product(\"mbp\", \"MacBook Pro\", 1399.99, 0)\n",
    "atv = product(\"atv\", \"Apple TV\", 109.50, 0)\n",
    "vga = product(\"vga\", \"VGA adapter\", 30.00, 0)\n",
    "product_list = [\"ipd\", \"mbp\", \"atv\", \"vga\"]\n",
    "totalprice = 0"
   ]
  },
  {
   "cell_type": "code",
   "execution_count": 236,
   "metadata": {},
   "outputs": [],
   "source": [
    "# Change the index here if want to adjust the pricing discounts\n",
    "# Buy atv_buy for atv_for\n",
    "atv_buy = 3\n",
    "atv_for = 2\n",
    "# Buy ipd_buy and get discounts\n",
    "ipd_buy = 4"
   ]
  },
  {
   "cell_type": "code",
   "execution_count": 237,
   "metadata": {},
   "outputs": [],
   "source": [
    "# Scan the product and add the corresponding units\n",
    "def scan():\n",
    "    command = input(\"Check out: \")\n",
    "    while (command != \"Total price\"):\n",
    "        globals()[command].unit = globals()[command].unit + 1\n",
    "        command = input(\"Check out: \")\n",
    "    total()"
   ]
  },
  {
   "cell_type": "code",
   "execution_count": 238,
   "metadata": {},
   "outputs": [],
   "source": [
    "# Define the check out rules\n",
    "def total():\n",
    "    global totalprice, ipd, mbp, atv, vga\n",
    "    if (atv.unit % atv_buy == 0):\n",
    "        atv.unit = int(atv_for * atv.unit / atv_buy)\n",
    "    if (ipd.unit > ipd_buy):\n",
    "        ipd.Price = 499.99\n",
    "    vga.unit = max(0, vga.unit - mbp.unit)\n",
    "    for names in product_list:\n",
    "        totalprice = totalprice + globals()[names].Price * globals()[names].unit\n",
    "    print(\"Total price is: \", totalprice)\n",
    "    # Reset\n",
    "    totalprice = 0\n",
    "    ipd = product(\"ipd\", \"Super iPad\", 549.99, 0)\n",
    "    mbp = product(\"mbp\", \"MacBook Pro\", 1399.99, 0)\n",
    "    atv = product(\"atv\", \"Apple TV\", 109.50, 0)\n",
    "    vga = product(\"vga\", \"VGA adapter\", 30.00, 0)"
   ]
  },
  {
   "cell_type": "code",
   "execution_count": 240,
   "metadata": {},
   "outputs": [
    {
     "name": "stdout",
     "output_type": "stream",
     "text": [
      "Check out: atv\n",
      "Check out: atv\n",
      "Check out: atv\n",
      "Check out: vga\n",
      "Check out: Total price\n",
      "Total price is:  249.0\n"
     ]
    }
   ],
   "source": [
    "# Continue scanning the new product until type in \"Total price\"\n",
    "scan()"
   ]
  },
  {
   "cell_type": "code",
   "execution_count": 241,
   "metadata": {},
   "outputs": [
    {
     "name": "stdout",
     "output_type": "stream",
     "text": [
      "Check out: atv\n",
      "Check out: ipd\n",
      "Check out: ipd\n",
      "Check out: atv\n",
      "Check out: ipd\n",
      "Check out: ipd\n",
      "Check out: ipd\n",
      "Check out: Total price\n",
      "Total price is:  2718.95\n"
     ]
    }
   ],
   "source": [
    "scan()"
   ]
  },
  {
   "cell_type": "code",
   "execution_count": 242,
   "metadata": {},
   "outputs": [
    {
     "name": "stdout",
     "output_type": "stream",
     "text": [
      "Check out: mbp\n",
      "Check out: vga\n",
      "Check out: ipd\n",
      "Check out: Total price\n",
      "Total price is:  1949.98\n"
     ]
    }
   ],
   "source": [
    "scan()"
   ]
  },
  {
   "cell_type": "code",
   "execution_count": null,
   "metadata": {},
   "outputs": [],
   "source": []
  }
 ],
 "metadata": {
  "kernelspec": {
   "display_name": "Python 3",
   "language": "python",
   "name": "python3"
  },
  "language_info": {
   "codemirror_mode": {
    "name": "ipython",
    "version": 3
   },
   "file_extension": ".py",
   "mimetype": "text/x-python",
   "name": "python",
   "nbconvert_exporter": "python",
   "pygments_lexer": "ipython3",
   "version": "3.7.4"
  }
 },
 "nbformat": 4,
 "nbformat_minor": 2
}
